{
 "cells": [
  {
   "cell_type": "markdown",
   "id": "adaecd45",
   "metadata": {},
   "source": [
    "Q.1. Create two int type variables, apply addition, subtraction, division and multiplications\n",
    "and store the results in variables. Then print the data in the following format by calling the\n",
    "variables:\n",
    "First variable is __ & second variable is __.\n",
    "Addition: __ + __ = __\n",
    "Subtraction: __ - __ = __\n",
    "Multiplication: __ * __ = __\n",
    "Division: __ / __ = __"
   ]
  },
  {
   "cell_type": "code",
   "execution_count": 15,
   "id": "e4cdc0f0",
   "metadata": {},
   "outputs": [
    {
     "name": "stdout",
     "output_type": "stream",
     "text": [
      "First variable is 10  & second variable is 20\n",
      "Addition: 10 + 20 = 30\n",
      "Subtraction: 10 - 20 = -10\n",
      "Multiplication: 10 * 20 = 200\n",
      "Division: 10 / 20 = 0.5\n"
     ]
    }
   ],
   "source": [
    "a = 10\n",
    "b = 20\n",
    "\n",
    "print(\"First variable is\", a ,\" & second variable is\", b)\n",
    "print( \"Addition:\",a,\"+\", b, \"=\", a+b )\n",
    "print( \"Subtraction:\",a,\"-\", b, \"=\", a-b )\n",
    "print( \"Multiplication:\",a,\"*\", b, \"=\", a*b )\n",
    "print( \"Division:\",a,\"/\", b, \"=\", a/b )"
   ]
  },
  {
   "cell_type": "markdown",
   "id": "de085013",
   "metadata": {},
   "source": [
    "Q.2. What is the difference between the following operators:\n",
    "(i) ‘/’ & ‘//’\n",
    "(ii) ‘**’ & ‘^’"
   ]
  },
  {
   "cell_type": "markdown",
   "id": "bf884e03",
   "metadata": {},
   "source": [
    "(i) '/' = This does the division operation and returns the result with decimal values. It is called as floating point division.\n",
    "          Ex: 10/3 = 3.333333333\n",
    "   '//' = This also does division operation but returns only the integer value. In other words it turnacates the decimal                   digits and returns only the integer. It is called as floor Divison \n",
    "\t\t\tEx: 10//3 = 3\n",
    "(ii)'**'= This gives the exponentiation of digit. Ex : 2**3 = 8 , i.e., 2*2*2 = 8\n",
    "\t'^'= This performs XOR operation. Becareful that in normal human knowlegde, ^ is mentioned to denote 'to the power or                exponent'"
   ]
  },
  {
   "cell_type": "markdown",
   "id": "843dcd47",
   "metadata": {},
   "source": [
    "Q.3. List the logical operators"
   ]
  },
  {
   "cell_type": "markdown",
   "id": "2663cc50",
   "metadata": {},
   "source": [
    "1. AND operator 'and'\n",
    "2. OR operator  'or'\n",
    "3. NOT operator 'not'\n",
    "4. XOR Operator  '^'\n",
    "5. Greater Than '>'\n",
    "6. Less than  '<'\n",
    "7. Greater Than or equal to '>='\n",
    "8. Less than or equal to '<='"
   ]
  },
  {
   "cell_type": "markdown",
   "id": "b8a9d87c",
   "metadata": {},
   "source": [
    "Q.4. Explain right shift operator and left shift operator with examples."
   ]
  },
  {
   "cell_type": "markdown",
   "id": "d172f928",
   "metadata": {},
   "source": [
    "Right Shift Operator (>>):\n",
    "The right shift operator shifts the binary representation of a number to the right by a specified number of positions.\n",
    "Each shift to the right effectively divides the number by 2, discarding the rightmost bit."
   ]
  },
  {
   "cell_type": "code",
   "execution_count": 16,
   "id": "af81dfff",
   "metadata": {},
   "outputs": [
    {
     "name": "stdout",
     "output_type": "stream",
     "text": [
      "2\n"
     ]
    }
   ],
   "source": [
    "number = 10  \n",
    "shift = 2\n",
    "\n",
    "result = number >> shift\n",
    "print(result) \n"
   ]
  },
  {
   "cell_type": "markdown",
   "id": "d435b767",
   "metadata": {},
   "source": [
    "The binary representation of 10 is 00001010.\n",
    "Shifting the bits to the right by 2 positions gives 00000010, which is the binary representation of 2.\n",
    "Therefore, the result of the right shift operation is 2."
   ]
  },
  {
   "cell_type": "markdown",
   "id": "d1c0c573",
   "metadata": {},
   "source": [
    "Left Shift Operator (<<):\n",
    "The left shift operator shifts the binary representation of a number to the left by a specified number of positions. \n",
    "Each shift to the left effectively multiplies the number by 2, appending zeros on the right."
   ]
  },
  {
   "cell_type": "code",
   "execution_count": 17,
   "id": "58558986",
   "metadata": {},
   "outputs": [
    {
     "name": "stdout",
     "output_type": "stream",
     "text": [
      "40\n"
     ]
    }
   ],
   "source": [
    "number = 5  \n",
    "shift = 3\n",
    "\n",
    "result = number << shift\n",
    "print(result)  \n"
   ]
  },
  {
   "cell_type": "markdown",
   "id": "eb45af5a",
   "metadata": {},
   "source": [
    "The binary representation of 5 is 00000101.\n",
    "Shifting the bits to the left by 3 positions gives 00101000, which is the binary representation of 40.\n",
    "Therefore, the result of the left shift operation is 40."
   ]
  },
  {
   "cell_type": "markdown",
   "id": "2d55ad73",
   "metadata": {},
   "source": [
    "Q.5. Create a list containing int type data of length 15. Then write a code to check if 10 is\n",
    "present in the list or not."
   ]
  },
  {
   "cell_type": "code",
   "execution_count": 24,
   "id": "7ae7f948",
   "metadata": {},
   "outputs": [
    {
     "name": "stdout",
     "output_type": "stream",
     "text": [
      "10 Number is present\n"
     ]
    }
   ],
   "source": [
    "R = [0,1,2,3,4,5,6,7,8,9,10,11,12,13,14,15]\n",
    "\n",
    "\n",
    "if 10 in R :\n",
    "\tprint(\"10 Number is present\")\n",
    "else :\n",
    "\tprint(\"10 Number not present\")"
   ]
  },
  {
   "cell_type": "code",
   "execution_count": null,
   "id": "f4a53074",
   "metadata": {},
   "outputs": [],
   "source": []
  }
 ],
 "metadata": {
  "kernelspec": {
   "display_name": "Python 3 (ipykernel)",
   "language": "python",
   "name": "python3"
  },
  "language_info": {
   "codemirror_mode": {
    "name": "ipython",
    "version": 3
   },
   "file_extension": ".py",
   "mimetype": "text/x-python",
   "name": "python",
   "nbconvert_exporter": "python",
   "pygments_lexer": "ipython3",
   "version": "3.10.9"
  }
 },
 "nbformat": 4,
 "nbformat_minor": 5
}
