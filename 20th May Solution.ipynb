{
 "cells": [
  {
   "cell_type": "markdown",
   "id": "328ade79",
   "metadata": {},
   "source": [
    "Q.1 What are keywords in python? Using the keyword library, print all the python keywords."
   ]
  },
  {
   "cell_type": "markdown",
   "id": "fa2ab94c",
   "metadata": {},
   "source": [
    "Keywords are specific words that have already predefined definitions, which cannot be used as variable names or function names.\n",
    "Python Keywords are as follows"
   ]
  },
  {
   "cell_type": "code",
   "execution_count": 8,
   "id": "3cccca92",
   "metadata": {},
   "outputs": [
    {
     "name": "stdout",
     "output_type": "stream",
     "text": [
      "False\n",
      "None\n",
      "True\n",
      "and\n",
      "as\n",
      "assert\n",
      "async\n",
      "await\n",
      "break\n",
      "class\n",
      "continue\n",
      "def\n",
      "del\n",
      "elif\n",
      "else\n",
      "except\n",
      "finally\n",
      "for\n",
      "from\n",
      "global\n",
      "if\n",
      "import\n",
      "in\n",
      "is\n",
      "lambda\n",
      "nonlocal\n",
      "not\n",
      "or\n",
      "pass\n",
      "raise\n",
      "return\n",
      "try\n",
      "while\n",
      "with\n",
      "yield\n"
     ]
    }
   ],
   "source": [
    "import keyword\n",
    "\n",
    "All_Keywords = keyword.kwlist\n",
    "\n",
    "for keyword in All_Keywords:\n",
    "\tprint(keyword)"
   ]
  },
  {
   "cell_type": "markdown",
   "id": "65e6c97a",
   "metadata": {},
   "source": [
    "Q.2. What are the rules to create variables in python?"
   ]
  },
  {
   "cell_type": "markdown",
   "id": "5270ddb7",
   "metadata": {},
   "source": [
    "In Python, there are a few rules to keep in mind when creating variables:\n",
    "\n",
    "1.Variable Names:\n",
    "\tVariable names can contain letters (a-z, A-Z), digits (0-9), and underscores (_).\n",
    "    They must start with letters or underscore but cannot with numbers.\n",
    "    Variable names are case-sensitive. Ex: myVariable and myvariable are different variables.\n",
    "\t\n",
    "2.Reserved Keywords:\n",
    "\tVariable names cannot be the same as Python's reserved keywords (e.g., if, for, while, print, etc.).\n",
    "\n",
    "3.Assignment:\n",
    "\tTo assign a value to a variable, use the assignment operator (=). Ex: x = 10\n",
    "    \n",
    "4.No Spaces or Special Characters:\n",
    "\tVariable names cannot contain spaces or special characters like !, @, #, $, %, etc. except underscore(_).\n",
    "\n",
    "5.Preffered way to create variables:\n",
    "\tUse lowercase letters for variable names.\n",
    "\tSeparate multiple words with underscores (snake_case).\n",
    "\tFor example: my_variable, count_of_items.\n"
   ]
  },
  {
   "cell_type": "markdown",
   "id": "879aceae",
   "metadata": {},
   "source": [
    "Q.3. What are the standards and conventions followed for the nomenclature of variables in\n",
    "python to improve code readability and maintainability?"
   ]
  },
  {
   "cell_type": "markdown",
   "id": "b6568d1e",
   "metadata": {},
   "source": [
    "Follow the below standards \n",
    "Use descriptive names\n",
    "Use lowercase letters\n",
    "Separate words with underscores\n",
    "Avoid single-character names\n",
    "Be consistent and follow conventions\n",
    "Avoid using reserved keywords"
   ]
  },
  {
   "cell_type": "markdown",
   "id": "d4f4cd2a",
   "metadata": {},
   "source": [
    "Q.4. What will happen if a keyword is used as a variable name?\n",
    "    \tIt will result in Syntax Error."
   ]
  },
  {
   "cell_type": "markdown",
   "id": "b40917a1",
   "metadata": {},
   "source": [
    "Q.5. For what purpose def keyword is used?"
   ]
  },
  {
   "cell_type": "markdown",
   "id": "49a76327",
   "metadata": {},
   "source": [
    "The def keyword in Python is used to define a function. \n",
    "It is followed by the function name and a set of parentheses, which may contain parameters for the function. \n",
    "The function definition is then followed by a colon (:) and an indented block of code that represents the function's body.\n",
    "See below code for example:"
   ]
  },
  {
   "cell_type": "code",
   "execution_count": 9,
   "id": "e6c01e83",
   "metadata": {},
   "outputs": [
    {
     "name": "stdout",
     "output_type": "stream",
     "text": [
      "Hello, Alice!\n",
      "Hello, Bob!\n"
     ]
    }
   ],
   "source": [
    "def greet(name):\n",
    "    print(\"Hello, \" + name + \"!\")\n",
    "\n",
    "# Calling the function\n",
    "greet(\"Alice\")\n",
    "greet(\"Bob\")\n"
   ]
  },
  {
   "cell_type": "markdown",
   "id": "c34b2d61",
   "metadata": {},
   "source": [
    "What is the operation of this special character ‘\\’?"
   ]
  },
  {
   "cell_type": "markdown",
   "id": "825cf092",
   "metadata": {},
   "source": [
    "The special character '\\' is called the backslash in Python. It serves as an escape character and is used to include special characters or escape sequences within strings or characters. It has various uses and can modify the behavior of certain characters that follow it.\n",
    "\n",
    "\\': Escapes a single quote within a single-quoted string.\n",
    "\\\": Escapes a double quote within a double-quoted string.\n",
    "\\\\: Escapes a backslash itself within a string.\n",
    "\\t: Represents a tab character.\n",
    "\\r: Represents a carriage return.\n",
    "\\b: Represents a backspace.\n",
    "\\n: Represents a newline.\n",
    "\\f: Represents a form feed."
   ]
  },
  {
   "cell_type": "markdown",
   "id": "4c8cec39",
   "metadata": {},
   "source": [
    "Q.7. Give an example of the following conditions:\n",
    "(i) Homogeneous list\n",
    "(ii) Heterogeneous set\n",
    "(iii) Homogeneous tuple"
   ]
  },
  {
   "cell_type": "markdown",
   "id": "e7f4bb2b",
   "metadata": {},
   "source": [
    "(i) Homogeneous List:\n",
    "\tA homogeneous list is a list where all the elements are of the same type.\n",
    "\tEx:mylist = [1,2,3,4,5] #list is only integer type.\n",
    "(ii) Heterogeneous Set:\n",
    "\tA heterogeneous set is a set where the elements can be of different types.\n",
    "    Ex:mylist = [1,2,\"R\",\"S\",TRUE,3.14]\n",
    "(iii) Homogeneous Tuple:\n",
    "\tA homogeneous tuple is a tuple where all the elements are of the same type. \n",
    "    Ex:my_tuple = ('apple', 'banana', 'cherry', 'date')"
   ]
  },
  {
   "cell_type": "markdown",
   "id": "9059fcb0",
   "metadata": {},
   "source": [
    "Q.8. Explain the mutable and immutable data types with proper explanation & examples."
   ]
  },
  {
   "cell_type": "markdown",
   "id": "1f49b418",
   "metadata": {},
   "source": [
    "In Python, data types can be classified as either mutable or immutable based on whether their values can be changed after they are created. \n",
    "1.Mutable Data Types:\n",
    "\tMutable data types are those whose values can be modified after they are created.\n",
    "    Ex:lists, dictionaries, and sets.\n",
    "2.Immutable Data Types:\n",
    "\tImmutable data types are those whose values cannot be changed once they are created.\n",
    "    Ex:integers, floats, strings, tuples, and frozensets.\n"
   ]
  },
  {
   "cell_type": "code",
   "execution_count": 10,
   "id": "9ac1c1b2",
   "metadata": {},
   "outputs": [
    {
     "name": "stdout",
     "output_type": "stream",
     "text": [
      "[10, 2, 3, 4]\n"
     ]
    }
   ],
   "source": [
    "#Mutable Data Types:\n",
    "my_list = [1, 2, 3, 4]\n",
    "my_list[0] = 10\n",
    "print(my_list)\n"
   ]
  },
  {
   "cell_type": "code",
   "execution_count": 11,
   "id": "24f1f186",
   "metadata": {},
   "outputs": [
    {
     "ename": "TypeError",
     "evalue": "'str' object does not support item assignment",
     "output_type": "error",
     "traceback": [
      "\u001b[1;31m---------------------------------------------------------------------------\u001b[0m",
      "\u001b[1;31mTypeError\u001b[0m                                 Traceback (most recent call last)",
      "Cell \u001b[1;32mIn[11], line 4\u001b[0m\n\u001b[0;32m      2\u001b[0m my_string \u001b[38;5;241m=\u001b[39m \u001b[38;5;124m\"\u001b[39m\u001b[38;5;124mHello\u001b[39m\u001b[38;5;124m\"\u001b[39m\n\u001b[0;32m      3\u001b[0m \u001b[38;5;66;03m# Attempting to change a character in the string\u001b[39;00m\n\u001b[1;32m----> 4\u001b[0m my_string[\u001b[38;5;241m0\u001b[39m] \u001b[38;5;241m=\u001b[39m \u001b[38;5;124m'\u001b[39m\u001b[38;5;124mJ\u001b[39m\u001b[38;5;124m'\u001b[39m\n\u001b[0;32m      5\u001b[0m \u001b[38;5;28mprint\u001b[39m(my_string)\n",
      "\u001b[1;31mTypeError\u001b[0m: 'str' object does not support item assignment"
     ]
    }
   ],
   "source": [
    "#Immutable Data Types:\n",
    "my_string = \"Hello\"\n",
    "# Attempting to change a character in the string\n",
    "my_string[0] = 'J'\n",
    "print(my_string)\n"
   ]
  },
  {
   "cell_type": "markdown",
   "id": "c9b45454",
   "metadata": {},
   "source": [
    "Q.9. Write a code to create the given structure using only for loop.\n",
    "*\n",
    "***\n",
    "*****\n",
    "*******\n",
    "*********"
   ]
  },
  {
   "cell_type": "code",
   "execution_count": 15,
   "id": "ca3f8a7c",
   "metadata": {},
   "outputs": [
    {
     "name": "stdout",
     "output_type": "stream",
     "text": [
      "*\n",
      "**\n",
      "***\n",
      "****\n",
      "*****\n"
     ]
    }
   ],
   "source": [
    "rows = 5\n",
    "\n",
    "for i in range(rows):\n",
    "    for j in range(i + 1):\n",
    "        print('*', end='')\n",
    "    print()"
   ]
  },
  {
   "cell_type": "markdown",
   "id": "167e755e",
   "metadata": {},
   "source": [
    "Q.10. Write a code to create the given structure using while loop.\n",
    "|||||||||\n",
    "|||||||\n",
    "|||||\n",
    "|||\n",
    "|"
   ]
  },
  {
   "cell_type": "code",
   "execution_count": 16,
   "id": "04929153",
   "metadata": {},
   "outputs": [
    {
     "name": "stdout",
     "output_type": "stream",
     "text": [
      "|||||\n",
      "||||\n",
      "|||\n",
      "||\n",
      "|\n"
     ]
    }
   ],
   "source": [
    "rows = 5\n",
    "\n",
    "while rows >= 1:\n",
    "    print('|' * rows)\n",
    "    rows -= 1\n"
   ]
  },
  {
   "cell_type": "code",
   "execution_count": null,
   "id": "b1a67809",
   "metadata": {},
   "outputs": [],
   "source": []
  }
 ],
 "metadata": {
  "kernelspec": {
   "display_name": "Python 3 (ipykernel)",
   "language": "python",
   "name": "python3"
  },
  "language_info": {
   "codemirror_mode": {
    "name": "ipython",
    "version": 3
   },
   "file_extension": ".py",
   "mimetype": "text/x-python",
   "name": "python",
   "nbconvert_exporter": "python",
   "pygments_lexer": "ipython3",
   "version": "3.10.9"
  }
 },
 "nbformat": 4,
 "nbformat_minor": 5
}
